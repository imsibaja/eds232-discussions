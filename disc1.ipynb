{
 "cells": [
  {
   "cell_type": "code",
   "execution_count": 1,
   "metadata": {},
   "outputs": [],
   "source": [
    "import numpy as np\n",
    "import pandas as pd\n",
    "import matplotlib.pyplot as plt\n",
    "from sklearn.model_selection import train_test_split\n",
    "from sklearn.linear_model import LinearRegression\n",
    "from sklearn.metrics import mean_squared_error, r2_score\n",
    "import matplotlib.pyplot as plt\n",
    "from ipywidgets import interact\n",
    "import ipywidgets as widgets\n",
    "from ipywidgets import interact, FloatSlider\n",
    "from IPython.display import display, clear_output\n",
    "\n",
    "# Load the data\n",
    "file_path = \"data/Hurricane Irene and the Hudson River.xlsx\"\n",
    "do_data = pd.read_excel(file_path, sheet_name=5).drop([\"Piermont D.O. (ppm)\"], axis = 1)\n",
    "rainfall_data = pd.read_excel(file_path, sheet_name=\"Rainfall\").drop([\"Piermont  Rainfall Daily Accumulation (Inches)\"], axis = 1)\n",
    "turbidity_data = pd.read_excel(file_path, sheet_name=\"Turbidity\").drop([\"Piermont Turbidity in NTU\"], axis = 1)"
   ]
  },
  {
   "cell_type": "code",
   "execution_count": 2,
   "metadata": {},
   "outputs": [
    {
     "data": {
      "text/html": [
       "<div>\n",
       "<style scoped>\n",
       "    .dataframe tbody tr th:only-of-type {\n",
       "        vertical-align: middle;\n",
       "    }\n",
       "\n",
       "    .dataframe tbody tr th {\n",
       "        vertical-align: top;\n",
       "    }\n",
       "\n",
       "    .dataframe thead th {\n",
       "        text-align: right;\n",
       "    }\n",
       "</style>\n",
       "<table border=\"1\" class=\"dataframe\">\n",
       "  <thead>\n",
       "    <tr style=\"text-align: right;\">\n",
       "      <th></th>\n",
       "      <th>albany_do</th>\n",
       "      <th>norrie_do</th>\n",
       "      <th>albany_rainfall</th>\n",
       "      <th>norrie_rainfall</th>\n",
       "      <th>albany_turbidity</th>\n",
       "      <th>norrie_turbidity</th>\n",
       "    </tr>\n",
       "    <tr>\n",
       "      <th>date</th>\n",
       "      <th></th>\n",
       "      <th></th>\n",
       "      <th></th>\n",
       "      <th></th>\n",
       "      <th></th>\n",
       "      <th></th>\n",
       "    </tr>\n",
       "  </thead>\n",
       "  <tbody>\n",
       "    <tr>\n",
       "      <th>2011-08-25 00:00:00</th>\n",
       "      <td>7.68</td>\n",
       "      <td>7.81</td>\n",
       "      <td>0.0</td>\n",
       "      <td>0.0</td>\n",
       "      <td>4.0</td>\n",
       "      <td>9.3</td>\n",
       "    </tr>\n",
       "    <tr>\n",
       "      <th>2011-08-25 00:15:00</th>\n",
       "      <td>7.60</td>\n",
       "      <td>7.73</td>\n",
       "      <td>0.0</td>\n",
       "      <td>0.0</td>\n",
       "      <td>3.9</td>\n",
       "      <td>8.4</td>\n",
       "    </tr>\n",
       "    <tr>\n",
       "      <th>2011-08-25 00:30:00</th>\n",
       "      <td>7.57</td>\n",
       "      <td>7.63</td>\n",
       "      <td>0.0</td>\n",
       "      <td>0.0</td>\n",
       "      <td>4.3</td>\n",
       "      <td>7.9</td>\n",
       "    </tr>\n",
       "    <tr>\n",
       "      <th>2011-08-25 00:45:00</th>\n",
       "      <td>7.72</td>\n",
       "      <td>7.67</td>\n",
       "      <td>0.0</td>\n",
       "      <td>0.0</td>\n",
       "      <td>4.7</td>\n",
       "      <td>8.1</td>\n",
       "    </tr>\n",
       "    <tr>\n",
       "      <th>2011-08-25 01:00:00</th>\n",
       "      <td>7.74</td>\n",
       "      <td>7.63</td>\n",
       "      <td>0.0</td>\n",
       "      <td>0.0</td>\n",
       "      <td>4.4</td>\n",
       "      <td>8.4</td>\n",
       "    </tr>\n",
       "  </tbody>\n",
       "</table>\n",
       "</div>"
      ],
      "text/plain": [
       "                     albany_do  norrie_do  albany_rainfall  norrie_rainfall  \\\n",
       "date                                                                          \n",
       "2011-08-25 00:00:00       7.68       7.81              0.0              0.0   \n",
       "2011-08-25 00:15:00       7.60       7.73              0.0              0.0   \n",
       "2011-08-25 00:30:00       7.57       7.63              0.0              0.0   \n",
       "2011-08-25 00:45:00       7.72       7.67              0.0              0.0   \n",
       "2011-08-25 01:00:00       7.74       7.63              0.0              0.0   \n",
       "\n",
       "                     albany_turbidity  norrie_turbidity  \n",
       "date                                                     \n",
       "2011-08-25 00:00:00               4.0               9.3  \n",
       "2011-08-25 00:15:00               3.9               8.4  \n",
       "2011-08-25 00:30:00               4.3               7.9  \n",
       "2011-08-25 00:45:00               4.7               8.1  \n",
       "2011-08-25 01:00:00               4.4               8.4  "
      ]
     },
     "execution_count": 2,
     "metadata": {},
     "output_type": "execute_result"
    }
   ],
   "source": [
    "# Merge the two datasets\n",
    "\n",
    "data = do_data.merge(rainfall_data, on = \"Date Time (ET)\")\n",
    "data = data.merge(turbidity_data, on = \"Date Time (ET)\")\n",
    "data.head()\n",
    "\n",
    "# Update the column names\n",
    "data.columns = [\"date\", \"albany_do\", \"norrie_do\", \"albany_rainfall\", \"norrie_rainfall\", \"albany_turbidity\", \"norrie_turbidity\"]\n",
    "\n",
    "# Convert the data to datetime format and set it as index\n",
    "data[\"date\"] = pd.to_datetime(data[\"date\"])\n",
    "\n",
    "# Set the date as the indx\n",
    "data.set_index(\"date\", inplace=True)\n",
    "data.head()"
   ]
  },
  {
   "cell_type": "markdown",
   "metadata": {},
   "source": [
    "## Multiple Linear Regression"
   ]
  },
  {
   "cell_type": "code",
   "execution_count": 3,
   "metadata": {},
   "outputs": [
    {
     "name": "stdout",
     "output_type": "stream",
     "text": [
      "RMSE: 221.9143474905527\n",
      "R-squared: 0.490738951845751\n"
     ]
    }
   ],
   "source": [
    "# Define predictors and the target variable\n",
    "X = data[[\"albany_do\", \"albany_rainfall\"]]\n",
    "y = data[[\"albany_turbidity\"]]\n",
    "\n",
    "# Split the data into training and testing sets\n",
    "X_train, X_test, y_train, y_test = train_test_split(X, y, test_size=0.3, random_state = 42)\n",
    "\n",
    "# Create and fit the model\n",
    "model = LinearRegression()\n",
    "model.fit(X_train, y_train)\n",
    "\n",
    "# Predict and evaluate\n",
    "y_pred = model.predict(X_test)\n",
    "\n",
    "rmse = np.sqrt(mean_squared_error(y_test, y_pred))\n",
    "\n",
    "r2 = r2_score(y_test, y_pred)\n",
    "\n",
    "print(f\"RMSE: {np.sqrt(mean_squared_error(y_test, y_pred))}\")\n",
    "print(f\"R-squared: {r2_score(y_test, y_pred)}\")"
   ]
  },
  {
   "cell_type": "markdown",
   "metadata": {},
   "source": [
    "## Create a widget to visualize different models"
   ]
  },
  {
   "cell_type": "code",
   "execution_count": 4,
   "metadata": {},
   "outputs": [
    {
     "data": {
      "application/vnd.jupyter.widget-view+json": {
       "model_id": "51758f3657a4409db20a8676e1a7c993",
       "version_major": 2,
       "version_minor": 0
      },
      "text/plain": [
       "SelectMultiple(description='Predictors', index=(0,), options=('albany_do', 'norrie_do', 'albany_rainfall', 'no…"
      ]
     },
     "metadata": {},
     "output_type": "display_data"
    },
    {
     "data": {
      "application/vnd.jupyter.widget-view+json": {
       "model_id": "ae60537f4d0c4def9d4f707f0b389caf",
       "version_major": 2,
       "version_minor": 0
      },
      "text/plain": [
       "Dropdown(description='Target', index=1, options=('albany_do', 'norrie_do', 'albany_rainfall', 'norrie_rainfall…"
      ]
     },
     "metadata": {},
     "output_type": "display_data"
    },
    {
     "data": {
      "application/vnd.jupyter.widget-view+json": {
       "model_id": "5324c5b95b4f49999dabdb9ada7dfa81",
       "version_major": 2,
       "version_minor": 0
      },
      "text/plain": [
       "Button(style=ButtonStyle())"
      ]
     },
     "metadata": {},
     "output_type": "display_data"
    },
    {
     "data": {
      "application/vnd.jupyter.widget-view+json": {
       "model_id": "bff86d7ab26b4bc182ffff1db3c2ce0b",
       "version_major": 2,
       "version_minor": 0
      },
      "text/plain": [
       "Output()"
      ]
     },
     "metadata": {},
     "output_type": "display_data"
    }
   ],
   "source": [
    "# Create a widget for slecting predictors\n",
    "predictor_selector = widgets.SelectMultiple(\n",
    "    options = data.columns,\n",
    "    value = [data.columns[0]],\n",
    "    description = \"Predictors\"\n",
    ")\n",
    "\n",
    "# Create a dropdown for selecting the target variable\n",
    "target_selector = widgets.Dropdown(\n",
    "    options = data.columns,\n",
    "    value = data.columns[1],\n",
    "    description = \"Target\"\n",
    ")\n",
    "\n",
    "# Button to Evaluate the model\n",
    "evaluate_button = widgets.Button(discription = \"Evaluate Model\")\n",
    "\n",
    "# Output the widget to display results\n",
    "output = widgets.Output()\n",
    "\n",
    "# Define the function to handle button clicks\n",
    "def evaluate_model(b):\n",
    "    with output:\n",
    "        clear_output(wait=True) # Clear output of display area\n",
    "        \n",
    "        # Make sure the target isnot in the predictors\n",
    "        selected_predictors = [item for item in predictor_selector.value] \n",
    "        if target_selector.value in selected_predictors:\n",
    "            print(\"Target variable must not be in the predictors.\")\n",
    "            return\n",
    "        \n",
    "        # Prepare the data\n",
    "        X = data[selected_predictors]\n",
    "        y = data[target_selector.value]\n",
    "        \n",
    "        # Split data into training and testing sets\n",
    "        X_train, X_test, y_train, y_test = train_test_split(X, y, test_size=0.33, random_state = 42)\n",
    "        \n",
    "        # Create and fit the model\n",
    "        model = LinearRegression()\n",
    "        model.fit(X_train, y_train)\n",
    "        \n",
    "        # Predict and calculate R^2 and MSE\n",
    "        y_pred = model.predict(X_test)\n",
    "        r2 = r2_score(y_test, y_pred)\n",
    "        mse = mean_squared_error(y_test, y_pred)\n",
    "        \n",
    "        # Display the R^2 score and MSE\n",
    "        print(f\"R^2: {r2:4f}\")\n",
    "        print(f\"MSE: {mse:.4f}\")\n",
    "        \n",
    "# Display the widgets and connect the button to the function\n",
    "display(predictor_selector, target_selector, evaluate_button, output)\n",
    "evaluate_button.on_click(evaluate_model)"
   ]
  },
  {
   "cell_type": "markdown",
   "metadata": {},
   "source": []
  }
 ],
 "metadata": {
  "kernelspec": {
   "display_name": "Python 3",
   "language": "python",
   "name": "python3"
  },
  "language_info": {
   "codemirror_mode": {
    "name": "ipython",
    "version": 3
   },
   "file_extension": ".py",
   "mimetype": "text/x-python",
   "name": "python",
   "nbconvert_exporter": "python",
   "pygments_lexer": "ipython3",
   "version": "3.11.10"
  }
 },
 "nbformat": 4,
 "nbformat_minor": 2
}
