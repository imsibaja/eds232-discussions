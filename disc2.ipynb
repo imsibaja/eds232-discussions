{
 "cells": [
  {
   "cell_type": "code",
   "execution_count": 1,
   "metadata": {},
   "outputs": [],
   "source": [
    "# Import necessary libraries\n",
    "import pandas as pd\n",
    "import numpy as np\n",
    "import matplotlib.pyplot as plt\n",
    "from sklearn.model_selection import train_test_split\n",
    "from sklearn.linear_model import Lasso, Ridge\n",
    "from sklearn.metrics import mean_squared_error, r2_score\n",
    "from ipywidgets import interact, FloatLogSlider\n",
    "\n",
    "# Generate data\n",
    "np.random.seed(42)\n",
    "n_samples = 200\n",
    "X = np.zeros((n_samples, 6))\n",
    "X[:, 0] = np.random.normal(0, 1, n_samples)  # X1 - Important feature\n",
    "X[:, 1] = np.random.normal(0, 1, n_samples)  # X2 -  Important feature\n",
    "X[:, 2] = X[:, 0] + np.random.normal(0, 0.1, n_samples)  # Correlated with X1\n",
    "X[:, 3] = X[:, 1] + np.random.normal(0, 0.1, n_samples)  # Correlated with X2\n",
    "X[:, 4] = np.random.normal(0, 0.1, n_samples)  # Noise\n",
    "X[:, 5] = np.random.normal(0, 0.1, n_samples)  # Noise\n",
    "\n",
    "y = 3 * X[:, 0] + 2 * X[:, 1] + 0.5 * X[:, 2] + np.random.normal(0, 0.1, n_samples) "
   ]
  },
  {
   "cell_type": "markdown",
   "metadata": {},
   "source": [
    "## Regularized Regression\n",
    "### Now that you have your data, do the following:"
   ]
  },
  {
   "cell_type": "code",
   "execution_count": 2,
   "metadata": {},
   "outputs": [
    {
     "name": "stdout",
     "output_type": "stream",
     "text": [
      "Ridge Regression RMSE: 0.14410020171824725\n",
      "Ridge Regression R^2: 0.9984722762470866\n"
     ]
    }
   ],
   "source": [
    "# Split your data into training and testing.\n",
    "X_train, X_test, y_train, y_test = train_test_split(X, y, test_size=0.3, random_state=42)\n",
    "\n",
    "# Create and fit a ridge regression\n",
    "ridge_model = Ridge()\n",
    "ridge_model.fit(X_train, y_train)\n",
    "ridge_predictions = ridge_model.predict(X_test)\n",
    "\n",
    "# Calculate the RMSE and R^2 for your ridge regression.\n",
    "ridge_rmse = np.sqrt(mean_squared_error(y_test, ridge_predictions))\n",
    "ridge_r2 = r2_score(y_test, ridge_predictions)\n",
    "print(\"Ridge Regression RMSE:\", ridge_rmse)\n",
    "print(\"Ridge Regression R^2:\", ridge_r2)"
   ]
  },
  {
   "cell_type": "code",
   "execution_count": 3,
   "metadata": {},
   "outputs": [
    {
     "name": "stdout",
     "output_type": "stream",
     "text": [
      "Lasso Regression RMSE: 1.2984978990079017\n",
      "Lasso Regression R^2: 0.8759496036905758\n"
     ]
    }
   ],
   "source": [
    "# Create and fit Lasso regression model\n",
    "lasso_model = Lasso()\n",
    "lasso_model.fit(X_train, y_train)\n",
    "lasso_predictions = lasso_model.predict(X_test)\n",
    "\n",
    "# Calculate RMSE and R^2 for Lasso regression\n",
    "lasso_rmse = np.sqrt(mean_squared_error(y_test, lasso_predictions))\n",
    "lasso_r2 = r2_score(y_test, lasso_predictions)\n",
    "print(\"Lasso Regression RMSE:\", lasso_rmse)\n",
    "print(\"Lasso Regression R^2:\", lasso_r2) "
   ]
  },
  {
   "cell_type": "markdown",
   "metadata": {},
   "source": [
    "## Visualizing Ridge vs Regression"
   ]
  },
  {
   "cell_type": "markdown",
   "metadata": {},
   "source": [
    "### Coefficient Bar Plot"
   ]
  },
  {
   "cell_type": "code",
   "execution_count": 4,
   "metadata": {},
   "outputs": [
    {
     "data": {
      "text/plain": [
       "<function matplotlib.pyplot.show(close=None, block=None)>"
      ]
     },
     "execution_count": 4,
     "metadata": {},
     "output_type": "execute_result"
    },
    {
     "data": {
      "image/png": "[encoded data removed]",
      "text/plain": [
       "<Figure size 1500x500 with 3 Axes>"
      ]
     },
     "metadata": {},
     "output_type": "display_data"
    }
   ],
   "source": [
    "alphas = [0.1, 1, 10]\n",
    "data = []\n",
    "\n",
    "for alpha in alphas: \n",
    "    ridge = Ridge(alpha=alpha).fit(X, y)\n",
    "    lasso = Lasso(alpha = alpha).fit(X, y)\n",
    "    \n",
    "    data.append(pd.DataFrame({\n",
    "        \"Ridge\": ridge.coef_,\n",
    "        \"Lasso\": lasso.coef_\n",
    "    }, index = [\"X1\", \"X2\", \"X1_corr\", \"X2_corr\", \"Noise1\", \"Noise2\"]))\n",
    "    \n",
    "fig, axes = plt.subplots(1, 3, figsize=(15, 5), sharey = True)\n",
    "for i, df in enumerate(data):\n",
    "    df.plot.bar(ax = axes[i], width = 0.8)\n",
    "    axes[i].set_title(f\"Alpha = {alphas[i]}\")\n",
    "    axes[i].set_xticklabels(df.index, rotation = 45)\n",
    "    axes[i].set_ylabel(\"Coefficient Value\")\n",
    "\n",
    "plt.show"
   ]
  },
  {
   "cell_type": "code",
   "execution_count": 5,
   "metadata": {},
   "outputs": [],
   "source": [
    "# Function for generating plot\n",
    "def update_alphas(alpha, model_type):\n",
    "    if model_type == 'Lasso':\n",
    "        model = Lasso(alpha = alpha)\n",
    "    else:\n",
    "        model = Ridge(alpha = alpha)\n",
    "    model.fit(X_train, y_train)\n",
    "    y_pred = model.predict(X_test)\n",
    "    rmse = np.sqrt(mean_squared_error(y_test, y_pred))\n",
    "    r2 = r2_score(y_test, y_pred)\n",
    "    plt.figure(figsize = (10,5))\n",
    "    plt.scatter(y_test, y_pred, color = 'blue', alpha = 0.5, label = f'Predictions (alpha = {alpha})')\n",
    "    plt.plot([y_test.min(),y_test.max()], [y_test.min(), y_test.max()], 'k--',lw =2)\n",
    "    plt.title(f'{model_type} Reression: Predictions vs Actual (alpha={alpha})')\n",
    "    plt.xlabel('Actual values')\n",
    "    plt.ylabel('Predicted values')\n",
    "    plt.legend()\n",
    "    plt.figtext(0.5, -.05, f'RMSe: {rmse}, R2: {r2}', ha = \"center\", fontsize = 12, bbox= {\"facecolor\": \"orange\"})\n",
    "    plt.show()\n",
    "#Create interactive widgets\n",
    "alpha_slider = FloatLogSlider(value = 1.0, base = 10, min = -3, max = 3, step = 0.1, description=  'Alpha')\n",
    "model_selector = {'Lasso Model': 'Lasso', 'Ridge': 'Ridge'}"
   ]
  },
  {
   "cell_type": "code",
   "execution_count": 6,
   "metadata": {},
   "outputs": [
    {
     "data": {
      "application/vnd.jupyter.widget-view+json": {
       "model_id": "44e263180a514e4c8e4ab0d1816457be",
       "version_major": 2,
       "version_minor": 0
      },
      "text/plain": [
       "interactive(children=(FloatLogSlider(value=1.0, description='Alpha', max=3.0, min=-3.0), Dropdown(description=…"
      ]
     },
     "metadata": {},
     "output_type": "display_data"
    },
    {
     "data": {
      "text/plain": [
       "<function __main__.update_alphas(alpha, model_type)>"
      ]
     },
     "execution_count": 6,
     "metadata": {},
     "output_type": "execute_result"
    }
   ],
   "source": [
    "interact(update_alphas, alpha = alpha_slider, model_type = model_selector)"
   ]
  }
 ],
 "metadata": {
  "kernelspec": {
   "display_name": "ml-env",
   "language": "python",
   "name": "python3"
  },
  "language_info": {
   "codemirror_mode": {
    "name": "ipython",
    "version": 3
   },
   "file_extension": ".py",
   "mimetype": "text/x-python",
   "name": "python",
   "nbconvert_exporter": "python",
   "pygments_lexer": "ipython3",
   "version": "3.10.16"
  }
 },
 "nbformat": 4,
 "nbformat_minor": 2
}
